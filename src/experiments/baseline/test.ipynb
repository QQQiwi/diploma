{
 "cells": [
  {
   "cell_type": "code",
   "execution_count": 1,
   "metadata": {},
   "outputs": [],
   "source": [
    "import pickle\n",
    "import pandas as pd\n",
    "import numpy as np\n",
    "from catboost import CatBoostClassifier\n",
    "from sklearn.model_selection import train_test_split, GridSearchCV, RandomizedSearchCV\n",
    "\n",
    "from sklearn.model_selection import train_test_split\n",
    "from pyts.classification import TimeSeriesForest\n",
    "import pandas as pd\n",
    "import numpy as np\n",
    "from scipy import stats\n",
    "import matplotlib.pyplot as plt\n",
    "import seaborn as sns\n"
   ]
  },
  {
   "cell_type": "code",
   "execution_count": 9,
   "metadata": {},
   "outputs": [],
   "source": [
    "from sklearn.metrics import accuracy_score, precision_score, recall_score, confusion_matrix, f1_score"
   ]
  },
  {
   "cell_type": "code",
   "execution_count": 30,
   "metadata": {},
   "outputs": [],
   "source": [
    "with open('train/precision_gridsearchcv/X_test_df.pkl', 'rb') as file:\n",
    "    X_test_df = pickle.load(file)\n",
    "\n",
    "freqs = list(X_test_df.keys())"
   ]
  },
  {
   "cell_type": "code",
   "execution_count": 14,
   "metadata": {},
   "outputs": [],
   "source": [
    "def eval_test(X_test_df, forest_freq_clf_list, is_catboost=True):\n",
    "    X_test_df = pd.DataFrame(X_test_df)\n",
    "    y_pred = []\n",
    "    for i in range(X_test_df.shape[0]):\n",
    "        y_cur_pred = []\n",
    "        for freq in freqs:\n",
    "            cur_freq_X = X_test_df.iloc[i][freq]\n",
    "            if is_catboost:\n",
    "                cur_freq_X = [str(cur_elem) for cur_elem in cur_freq_X]\n",
    "            cur_freq_y = forest_freq_clf_list[freq].predict([cur_freq_X])[0]\n",
    "            y_cur_pred.append(cur_freq_y)\n",
    "        pred_mode = stats.mode(np.array(y_cur_pred))[0]\n",
    "        y_pred.append(pred_mode)\n",
    "    return y_pred\n",
    "\n",
    "\n",
    "def get_data_stats(train, test):\n",
    "    print(\"(train) АКР:\", train.count(1))\n",
    "    print(\"(train) не АКР:\", train.count(0))\n",
    "\n",
    "    print(\"(test) АКР:\", test.count(1))\n",
    "    print(\"(test) не АКР:\", test.count(0))\n",
    "\n",
    "\n",
    "def build_conf_matrix(labels, predict, class_name):\n",
    "    lab, pred = [], []\n",
    "    for i in range(len(labels)):\n",
    "        if predict[i] == class_name:\n",
    "            pred.append(0)\n",
    "        else:\n",
    "            pred.append(1)\n",
    "        if labels[i] == class_name:\n",
    "            lab.append(0)\n",
    "        else:\n",
    "            lab.append(1)\n",
    "    return confusion_matrix(lab, pred, normalize='true')\n",
    "\n",
    "\n",
    "def eval_metrics(y_pred, y_test, id=\"\"):\n",
    "    print(\"f1_score: \", f1_score(y_test, y_pred))\n",
    "    print(\"precision_score: \", precision_score(y_test, y_pred))\n",
    "    print(\"recall_score: \", recall_score(y_test, y_pred))\n",
    "\n",
    "    get_res = {0: \"нет АКР\", 1: \"АКР\"}\n",
    "\n",
    "    for i in range(2):\n",
    "        heatmap = sns.heatmap(build_conf_matrix(y_test, y_pred, i), annot=True, cmap='YlGnBu')\n",
    "        heatmap.set_title(get_res[i], fontdict={'fontsize':14}, pad=10)\n",
    "        plt.xlabel('Предсказанный класс')\n",
    "        plt.ylabel('Истинный класс')\n",
    "        plt.savefig(f\"Класс {i} ({id}).png\", dpi=300)\n",
    "        plt.show()\n",
    "\n",
    "\n",
    "def cleared_test_ds(X_dict, y, threshold=1):\n",
    "    \"\"\"\n",
    "        Функция, которая удаляет из тренировочной выборки последовательности, в\n",
    "        которых значение напряжения равно нулю больше чем threshold секунд \n",
    "    \"\"\"\n",
    "    new_X_dict = {}\n",
    "    bad_idx = []\n",
    "    # находим для каждой частоты индексы с данными, в которых больше одного 0\n",
    "    freqs = list(X_dict.keys())\n",
    "    for freq in freqs:\n",
    "        cur_freq_test = X_dict[freq]\n",
    "        for i in range(len(cur_freq_test)):\n",
    "            if cur_freq_test[i].count(0) > threshold:\n",
    "                bad_idx.append(i)\n",
    "    bad_idx = np.unique(np.array(bad_idx)).tolist()\n",
    "    new_y = pd.DataFrame(y).drop(bad_idx, axis=0).values.tolist()\n",
    "    new_y = [y[0] for y in new_y]\n",
    "    # удаляем для каждой частоты объекты с этими индексами (в т.ч. в 'y')\n",
    "    for freq in freqs:\n",
    "        cur_freq_test = X_dict[freq]\n",
    "        new_X = pd.DataFrame(cur_freq_test).drop(bad_idx, axis=0).values.tolist()\n",
    "        new_X_dict[freq] = new_X\n",
    "    return new_X_dict, new_y"
   ]
  },
  {
   "cell_type": "markdown",
   "metadata": {},
   "source": [
    "## Обучил на GridSearchCV, с приоритетом на Precision"
   ]
  },
  {
   "cell_type": "markdown",
   "metadata": {},
   "source": [
    "обучалось 220 мин."
   ]
  },
  {
   "cell_type": "markdown",
   "metadata": {},
   "source": [
    "    param_grid = {\n",
    "        'iterations': [10, 50, 100],\n",
    "        'learning_rate': [0.01, 0.1, 1],\n",
    "        'depth': [4, 6, 8]\n",
    "    }"
   ]
  },
  {
   "cell_type": "code",
   "execution_count": 23,
   "metadata": {},
   "outputs": [],
   "source": [
    "with open('train/precision_gridsearchcv/X_test_df.pkl', 'rb') as file:\n",
    "    X_test_df = pickle.load(file)\n",
    "\n",
    "with open('train/precision_gridsearchcv/freq_clf_list.pkl', 'rb') as file:\n",
    "    freq_clf_list = pickle.load(file)\n",
    "\n",
    "with open('train/precision_gridsearchcv/y_train.pkl', 'rb') as file:\n",
    "    y_train = pickle.load(file)\n",
    "\n",
    "with open('train/precision_gridsearchcv/y_test.pkl', 'rb') as file:\n",
    "    y_test = pickle.load(file)\n",
    "\n"
   ]
  },
  {
   "cell_type": "code",
   "execution_count": 24,
   "metadata": {},
   "outputs": [
    {
     "name": "stdout",
     "output_type": "stream",
     "text": [
      "(train) АКР: 26\n",
      "(train) не АКР: 22\n",
      "(test) АКР: 5\n",
      "(test) не АКР: 7\n"
     ]
    }
   ],
   "source": [
    "get_data_stats(y_train, y_test)"
   ]
  },
  {
   "cell_type": "code",
   "execution_count": 25,
   "metadata": {},
   "outputs": [],
   "source": [
    "new_X_test_df, new_y_test = cleared_test_ds(X_test_df, y_test)"
   ]
  },
  {
   "cell_type": "code",
   "execution_count": 26,
   "metadata": {},
   "outputs": [],
   "source": [
    "y_pred = eval_test(new_X_test_df, freq_clf_list)"
   ]
  },
  {
   "cell_type": "code",
   "execution_count": 27,
   "metadata": {},
   "outputs": [
    {
     "data": {
      "text/plain": [
       "array([[0., 1.],\n",
       "       [0., 1.]])"
      ]
     },
     "execution_count": 27,
     "metadata": {},
     "output_type": "execute_result"
    }
   ],
   "source": [
    "confusion_matrix(y_test, y_pred, normalize='true')"
   ]
  },
  {
   "cell_type": "code",
   "execution_count": 28,
   "metadata": {},
   "outputs": [
    {
     "name": "stdout",
     "output_type": "stream",
     "text": [
      "f1_score:  0.5882352941176471\n",
      "precision_score:  0.4166666666666667\n",
      "recall_score:  1.0\n"
     ]
    },
    {
     "data": {
      "image/png": "[encoded data removed]",
      "text/plain": [
       "<Figure size 432x288 with 2 Axes>"
      ]
     },
     "metadata": {
      "needs_background": "light"
     },
     "output_type": "display_data"
    },
    {
     "data": {
      "image/png": "[encoded data removed]",
      "text/plain": [
       "<Figure size 432x288 with 2 Axes>"
      ]
     },
     "metadata": {
      "needs_background": "light"
     },
     "output_type": "display_data"
    }
   ],
   "source": [
    "eval_metrics(y_pred, y_test)"
   ]
  },
  {
   "cell_type": "markdown",
   "metadata": {},
   "source": [
    "## Обучил на GridSearchCV, с приоритетом на Accuracy"
   ]
  },
  {
   "cell_type": "markdown",
   "metadata": {},
   "source": [
    "обучалось 210 мин."
   ]
  },
  {
   "cell_type": "code",
   "execution_count": 33,
   "metadata": {},
   "outputs": [],
   "source": [
    "with open('train/accuracy_gridsearchcv/X_test_df.pkl', 'rb') as file:\n",
    "    X_test_df = pickle.load(file)\n",
    "\n",
    "with open('train/accuracy_gridsearchcv/freq_clf_list.pkl', 'rb') as file:\n",
    "    freq_clf_list = pickle.load(file)\n",
    "\n",
    "with open('train/accuracy_gridsearchcv/y_train.pkl', 'rb') as file:\n",
    "    y_train = pickle.load(file)\n",
    "\n",
    "with open('train/accuracy_gridsearchcv/y_test.pkl', 'rb') as file:\n",
    "    y_test = pickle.load(file)\n"
   ]
  },
  {
   "cell_type": "code",
   "execution_count": 34,
   "metadata": {},
   "outputs": [
    {
     "name": "stdout",
     "output_type": "stream",
     "text": [
      "(train) АКР: 26\n",
      "(train) не АКР: 22\n",
      "(test) АКР: 5\n",
      "(test) не АКР: 7\n"
     ]
    }
   ],
   "source": [
    "get_data_stats(y_train, y_test)"
   ]
  },
  {
   "cell_type": "code",
   "execution_count": 35,
   "metadata": {},
   "outputs": [],
   "source": [
    "new_X_test_df, new_y_test = cleared_test_ds(X_test_df, y_test)"
   ]
  },
  {
   "cell_type": "code",
   "execution_count": 36,
   "metadata": {},
   "outputs": [],
   "source": [
    "y_pred = eval_test(new_X_test_df, freq_clf_list)"
   ]
  },
  {
   "cell_type": "code",
   "execution_count": 37,
   "metadata": {},
   "outputs": [
    {
     "data": {
      "text/plain": [
       "array([[0., 1.],\n",
       "       [0., 1.]])"
      ]
     },
     "execution_count": 37,
     "metadata": {},
     "output_type": "execute_result"
    }
   ],
   "source": [
    "confusion_matrix(y_test, y_pred, normalize='true')"
   ]
  },
  {
   "cell_type": "code",
   "execution_count": 38,
   "metadata": {},
   "outputs": [
    {
     "name": "stdout",
     "output_type": "stream",
     "text": [
      "f1_score:  0.5882352941176471\n",
      "precision_score:  0.4166666666666667\n",
      "recall_score:  1.0\n"
     ]
    },
    {
     "data": {
      "image/png": "[encoded data removed]",
      "text/plain": [
       "<Figure size 432x288 with 2 Axes>"
      ]
     },
     "metadata": {
      "needs_background": "light"
     },
     "output_type": "display_data"
    },
    {
     "data": {
      "image/png": "[encoded data removed]",
      "text/plain": [
       "<Figure size 432x288 with 2 Axes>"
      ]
     },
     "metadata": {
      "needs_background": "light"
     },
     "output_type": "display_data"
    }
   ],
   "source": [
    "eval_metrics(y_pred, y_test)"
   ]
  },
  {
   "cell_type": "markdown",
   "metadata": {},
   "source": [
    "## Обучил на RandomSearchCV, с приоритетом на Precision"
   ]
  },
  {
   "cell_type": "code",
   "execution_count": 39,
   "metadata": {},
   "outputs": [],
   "source": [
    "with open('train/precision_randomsearchcv/X_test_df.pkl', 'rb') as file:\n",
    "    X_test_df = pickle.load(file)\n",
    "\n",
    "with open('train/precision_randomsearchcv/freq_clf_list.pkl', 'rb') as file:\n",
    "    freq_clf_list = pickle.load(file)\n",
    "\n",
    "with open('train/precision_randomsearchcv/y_train.pkl', 'rb') as file:\n",
    "    y_train = pickle.load(file)\n",
    "\n",
    "with open('train/precision_randomsearchcv/y_test.pkl', 'rb') as file:\n",
    "    y_test = pickle.load(file)\n"
   ]
  },
  {
   "cell_type": "code",
   "execution_count": 40,
   "metadata": {},
   "outputs": [
    {
     "name": "stdout",
     "output_type": "stream",
     "text": [
      "(train) АКР: 26\n",
      "(train) не АКР: 22\n",
      "(test) АКР: 5\n",
      "(test) не АКР: 7\n"
     ]
    }
   ],
   "source": [
    "get_data_stats(y_train, y_test)"
   ]
  },
  {
   "cell_type": "code",
   "execution_count": 41,
   "metadata": {},
   "outputs": [],
   "source": [
    "new_X_test_df, new_y_test = cleared_test_ds(X_test_df, y_test)"
   ]
  },
  {
   "cell_type": "code",
   "execution_count": 42,
   "metadata": {},
   "outputs": [],
   "source": [
    "y_pred = eval_test(new_X_test_df, freq_clf_list)"
   ]
  },
  {
   "cell_type": "code",
   "execution_count": 43,
   "metadata": {},
   "outputs": [
    {
     "data": {
      "text/plain": [
       "array([[0., 1.],\n",
       "       [0., 1.]])"
      ]
     },
     "execution_count": 43,
     "metadata": {},
     "output_type": "execute_result"
    }
   ],
   "source": [
    "confusion_matrix(y_test, y_pred, normalize='true')"
   ]
  },
  {
   "cell_type": "code",
   "execution_count": 44,
   "metadata": {},
   "outputs": [
    {
     "name": "stdout",
     "output_type": "stream",
     "text": [
      "f1_score:  0.5882352941176471\n",
      "precision_score:  0.4166666666666667\n",
      "recall_score:  1.0\n"
     ]
    },
    {
     "data": {
      "image/png": "[encoded data removed]",
      "text/plain": [
       "<Figure size 432x288 with 2 Axes>"
      ]
     },
     "metadata": {
      "needs_background": "light"
     },
     "output_type": "display_data"
    },
    {
     "data": {
      "image/png": "[encoded data removed]",
      "text/plain": [
       "<Figure size 432x288 with 2 Axes>"
      ]
     },
     "metadata": {
      "needs_background": "light"
     },
     "output_type": "display_data"
    }
   ],
   "source": [
    "eval_metrics(y_pred, y_test)"
   ]
  }
 ],
 "metadata": {
  "kernelspec": {
   "display_name": "Python 3",
   "language": "python",
   "name": "python3"
  },
  "language_info": {
   "codemirror_mode": {
    "name": "ipython",
    "version": 3
   },
   "file_extension": ".py",
   "mimetype": "text/x-python",
   "name": "python",
   "nbconvert_exporter": "python",
   "pygments_lexer": "ipython3",
   "version": "3.9.1"
  }
 },
 "nbformat": 4,
 "nbformat_minor": 2
}
