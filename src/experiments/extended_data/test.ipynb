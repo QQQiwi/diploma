{
 "cells": [
  {
   "cell_type": "code",
   "execution_count": 1,
   "metadata": {},
   "outputs": [],
   "source": [
    "import pickle\n",
    "import pandas as pd\n",
    "import numpy as np\n",
    "from catboost import CatBoostClassifier\n",
    "from sklearn.model_selection import train_test_split, GridSearchCV, RandomizedSearchCV\n",
    "\n",
    "from sklearn.model_selection import train_test_split\n",
    "from pyts.classification import TimeSeriesForest\n",
    "import pandas as pd\n",
    "import numpy as np\n",
    "from scipy import stats\n",
    "import matplotlib.pyplot as plt\n",
    "import seaborn as sns\n"
   ]
  },
  {
   "cell_type": "code",
   "execution_count": 6,
   "metadata": {},
   "outputs": [],
   "source": [
    "from sklearn.metrics import accuracy_score, precision_score, recall_score, confusion_matrix, f1_score"
   ]
  },
  {
   "cell_type": "code",
   "execution_count": 3,
   "metadata": {},
   "outputs": [],
   "source": [
    "with open('train/precision_gridsearchcv/X_test_df.pkl', 'rb') as file:\n",
    "    X_test_df = pickle.load(file)"
   ]
  },
  {
   "cell_type": "code",
   "execution_count": 4,
   "metadata": {},
   "outputs": [],
   "source": [
    "freqs = list(X_test_df.keys())"
   ]
  },
  {
   "cell_type": "code",
   "execution_count": 8,
   "metadata": {},
   "outputs": [],
   "source": [
    "def eval_test(X_test_df, forest_freq_clf_list, is_catboost=True):\n",
    "    X_test_df = pd.DataFrame(X_test_df)\n",
    "    y_pred = []\n",
    "    for i in range(X_test_df.shape[0]):\n",
    "        y_cur_pred = []\n",
    "        for freq in freqs:\n",
    "            cur_freq_X = X_test_df.iloc[i][freq]\n",
    "            if is_catboost:\n",
    "                cur_freq_X = [str(cur_elem) for cur_elem in cur_freq_X]\n",
    "            cur_freq_y = forest_freq_clf_list[freq].predict([cur_freq_X])[0]\n",
    "            y_cur_pred.append(cur_freq_y)\n",
    "        pred_mode = stats.mode(np.array(y_cur_pred))[0]\n",
    "        y_pred.append(pred_mode)\n",
    "    return y_pred\n",
    "\n",
    "\n",
    "def get_data_stats(train, test):\n",
    "    print(\"(train) АКР:\", train.count(1))\n",
    "    print(\"(train) не АКР:\", train.count(0))\n",
    "\n",
    "    print(\"(test) АКР:\", test.count(1))\n",
    "    print(\"(test) не АКР:\", test.count(0))\n",
    "\n",
    "\n",
    "def build_conf_matrix(labels, predict, class_name):\n",
    "    lab, pred = [], []\n",
    "    for i in range(len(labels)):\n",
    "        if predict[i] == class_name:\n",
    "            pred.append(0)\n",
    "        else:\n",
    "            pred.append(1)\n",
    "        if labels[i] == class_name:\n",
    "            lab.append(0)\n",
    "        else:\n",
    "            lab.append(1)\n",
    "    return confusion_matrix(lab, pred, normalize='true')\n",
    "\n",
    "\n",
    "def eval_metrics(y_pred, y_test, id=\"\"):\n",
    "    print(\"f1_score: \", f1_score(y_test, y_pred))\n",
    "    print(\"precision_score: \", precision_score(y_test, y_pred))\n",
    "    print(\"recall_score: \", recall_score(y_test, y_pred))\n",
    "\n",
    "    get_res = {0: \"нет АКР\", 1: \"АКР\"}\n",
    "\n",
    "    for i in range(2):\n",
    "        heatmap = sns.heatmap(build_conf_matrix(y_test, y_pred, i), annot=True, cmap='YlGnBu')\n",
    "        heatmap.set_title(get_res[i], fontdict={'fontsize':14}, pad=10)\n",
    "        plt.xlabel('Предсказанный класс')\n",
    "        plt.ylabel('Истинный класс')\n",
    "        plt.savefig(f\"Класс {i} ({id}).png\", dpi=300)\n",
    "        plt.show()\n",
    "\n",
    "\n",
    "def cleared_test_ds(X_dict, y, threshold=1):\n",
    "    \"\"\"\n",
    "        Функция, которая удаляет из тренировочной выборки последовательности, в\n",
    "        которых значение напряжения равно нулю больше чем threshold секунд \n",
    "    \"\"\"\n",
    "    new_X_dict = {}\n",
    "    bad_idx = []\n",
    "    # находим для каждой частоты индексы с данными, в которых больше одного 0\n",
    "    freqs = list(X_dict.keys())\n",
    "    for freq in freqs:\n",
    "        cur_freq_test = X_dict[freq]\n",
    "        for i in range(len(cur_freq_test)):\n",
    "            if cur_freq_test[i].count(0) > threshold:\n",
    "                bad_idx.append(i)\n",
    "    bad_idx = np.unique(np.array(bad_idx)).tolist()\n",
    "    new_y = pd.DataFrame(y).drop(bad_idx, axis=0).values.tolist()\n",
    "    new_y = [y[0] for y in new_y]\n",
    "    # удаляем для каждой частоты объекты с этими индексами (в т.ч. в 'y')\n",
    "    for freq in freqs:\n",
    "        cur_freq_test = X_dict[freq]\n",
    "        new_X = pd.DataFrame(cur_freq_test).drop(bad_idx, axis=0).values.tolist()\n",
    "        new_X_dict[freq] = new_X\n",
    "    return new_X_dict, new_y"
   ]
  },
  {
   "cell_type": "markdown",
   "metadata": {},
   "source": [
    "## Обучил на GridSearchCV, с приоритетом на Precision"
   ]
  },
  {
   "cell_type": "markdown",
   "metadata": {},
   "source": [
    "обучалось 493 мин."
   ]
  },
  {
   "cell_type": "code",
   "execution_count": 9,
   "metadata": {},
   "outputs": [],
   "source": [
    "with open('train/precision_gridsearchcv/X_test_df.pkl', 'rb') as file:\n",
    "    X_test_df = pickle.load(file)\n",
    "\n",
    "with open('train/precision_gridsearchcv/freq_clf_list.pkl', 'rb') as file:\n",
    "    freq_clf_list = pickle.load(file)\n",
    "\n",
    "with open('train/precision_gridsearchcv/y_train.pkl', 'rb') as file:\n",
    "    y_train = pickle.load(file)\n",
    "\n",
    "with open('train/precision_gridsearchcv/y_test.pkl', 'rb') as file:\n",
    "    y_test = pickle.load(file)\n"
   ]
  },
  {
   "cell_type": "code",
   "execution_count": 10,
   "metadata": {},
   "outputs": [
    {
     "name": "stdout",
     "output_type": "stream",
     "text": [
      "(train) АКР: 4527\n",
      "(train) не АКР: 10301\n",
      "(test) АКР: 1135\n",
      "(test) не АКР: 2572\n"
     ]
    }
   ],
   "source": [
    "get_data_stats(y_train, y_test)"
   ]
  },
  {
   "cell_type": "code",
   "execution_count": 11,
   "metadata": {},
   "outputs": [],
   "source": [
    "new_X_test_df, new_y_test = cleared_test_ds(X_test_df, y_test)"
   ]
  },
  {
   "cell_type": "code",
   "execution_count": 12,
   "metadata": {},
   "outputs": [],
   "source": [
    "y_pred = eval_test(new_X_test_df, freq_clf_list)"
   ]
  },
  {
   "cell_type": "code",
   "execution_count": 13,
   "metadata": {},
   "outputs": [
    {
     "data": {
      "text/plain": [
       "array([[1., 0.],\n",
       "       [1., 0.]])"
      ]
     },
     "execution_count": 13,
     "metadata": {},
     "output_type": "execute_result"
    }
   ],
   "source": [
    "confusion_matrix(y_test, y_pred, normalize='true')"
   ]
  },
  {
   "cell_type": "code",
   "execution_count": 14,
   "metadata": {},
   "outputs": [
    {
     "name": "stdout",
     "output_type": "stream",
     "text": [
      "f1_score:  0.0\n",
      "precision_score:  0.0\n",
      "recall_score:  0.0\n"
     ]
    },
    {
     "name": "stderr",
     "output_type": "stream",
     "text": [
      "c:\\Python39\\lib\\site-packages\\sklearn\\metrics\\_classification.py:1471: UndefinedMetricWarning: Precision is ill-defined and being set to 0.0 due to no predicted samples. Use `zero_division` parameter to control this behavior.\n",
      "  _warn_prf(average, modifier, msg_start, len(result))\n"
     ]
    },
    {
     "data": {
      "image/png": "[encoded data removed]",
      "text/plain": [
       "<Figure size 432x288 with 2 Axes>"
      ]
     },
     "metadata": {
      "needs_background": "light"
     },
     "output_type": "display_data"
    },
    {
     "data": {
      "image/png": "[encoded data removed]",
      "text/plain": [
       "<Figure size 432x288 with 2 Axes>"
      ]
     },
     "metadata": {
      "needs_background": "light"
     },
     "output_type": "display_data"
    }
   ],
   "source": [
    "eval_metrics(y_pred, y_test)"
   ]
  },
  {
   "cell_type": "markdown",
   "metadata": {},
   "source": [
    "## Обучил на GridSearchCV, с приоритетом на Accuracy\n",
    "\n",
    "выборка выровнена, 418 минут обучалось"
   ]
  },
  {
   "cell_type": "code",
   "execution_count": 46,
   "metadata": {},
   "outputs": [],
   "source": [
    "with open('train/accuracy_gridsearchcv/balanced_X_test_df.pkl', 'rb') as file:\n",
    "    X_test_df = pickle.load(file)\n",
    "\n",
    "with open('train/accuracy_gridsearchcv/balanced_freq_clf_list.pkl', 'rb') as file:\n",
    "    freq_clf_list = pickle.load(file)\n",
    "\n",
    "with open('train/accuracy_gridsearchcv/balanced_y_train.pkl', 'rb') as file:\n",
    "    y_train = pickle.load(file)\n",
    "\n",
    "with open('train/accuracy_gridsearchcv/balanced_y_test.pkl', 'rb') as file:\n",
    "    y_test = pickle.load(file)\n"
   ]
  },
  {
   "cell_type": "code",
   "execution_count": 47,
   "metadata": {},
   "outputs": [
    {
     "name": "stdout",
     "output_type": "stream",
     "text": [
      "(train) АКР: 4512\n",
      "(train) не АКР: 4547\n",
      "(test) АКР: 1150\n",
      "(test) не АКР: 1115\n"
     ]
    }
   ],
   "source": [
    "get_data_stats(y_train, y_test)"
   ]
  },
  {
   "cell_type": "code",
   "execution_count": 48,
   "metadata": {},
   "outputs": [],
   "source": [
    "new_X_test_df, new_y_test = cleared_test_ds(X_test_df, y_test)"
   ]
  },
  {
   "cell_type": "code",
   "execution_count": 49,
   "metadata": {},
   "outputs": [],
   "source": [
    "y_pred = eval_test(new_X_test_df, freq_clf_list)"
   ]
  },
  {
   "cell_type": "code",
   "execution_count": 50,
   "metadata": {},
   "outputs": [
    {
     "data": {
      "text/plain": [
       "array([[1., 0.],\n",
       "       [1., 0.]])"
      ]
     },
     "execution_count": 50,
     "metadata": {},
     "output_type": "execute_result"
    }
   ],
   "source": [
    "confusion_matrix(y_test, y_pred, normalize='true')"
   ]
  },
  {
   "cell_type": "code",
   "execution_count": 52,
   "metadata": {},
   "outputs": [
    {
     "name": "stdout",
     "output_type": "stream",
     "text": [
      "f1_score:  0.0\n",
      "precision_score:  0.0\n",
      "recall_score:  0.0\n"
     ]
    },
    {
     "name": "stderr",
     "output_type": "stream",
     "text": [
      "c:\\Python39\\lib\\site-packages\\sklearn\\metrics\\_classification.py:1471: UndefinedMetricWarning: Precision is ill-defined and being set to 0.0 due to no predicted samples. Use `zero_division` parameter to control this behavior.\n",
      "  _warn_prf(average, modifier, msg_start, len(result))\n"
     ]
    },
    {
     "data": {
      "image/png": "[encoded data removed]",
      "text/plain": [
       "<Figure size 432x288 with 2 Axes>"
      ]
     },
     "metadata": {
      "needs_background": "light"
     },
     "output_type": "display_data"
    },
    {
     "data": {
      "image/png": "[encoded data removed]",
      "text/plain": [
       "<Figure size 432x288 with 2 Axes>"
      ]
     },
     "metadata": {
      "needs_background": "light"
     },
     "output_type": "display_data"
    }
   ],
   "source": [
    "eval_metrics(y_pred, y_test)"
   ]
  },
  {
   "cell_type": "markdown",
   "metadata": {},
   "source": [
    "# kNN"
   ]
  },
  {
   "cell_type": "markdown",
   "metadata": {},
   "source": [
    "3 min"
   ]
  },
  {
   "cell_type": "code",
   "execution_count": 6,
   "metadata": {},
   "outputs": [
    {
     "name": "stdout",
     "output_type": "stream",
     "text": [
      "(train) АКР: 4512\n",
      "(train) не АКР: 4547\n",
      "(test) АКР: 1150\n",
      "(test) не АКР: 1115\n"
     ]
    }
   ],
   "source": [
    "with open('train/knn/balanced_X_test_df.pkl', 'rb') as file:\n",
    "    X_test_df = pickle.load(file)\n",
    "\n",
    "with open('train/knn/balanced_freq_clf_list.pkl', 'rb') as file:\n",
    "    freq_clf_list = pickle.load(file)\n",
    "\n",
    "with open('train/knn/balanced_y_train.pkl', 'rb') as file:\n",
    "    y_train = pickle.load(file)\n",
    "\n",
    "with open('train/knn/balanced_y_test.pkl', 'rb') as file:\n",
    "    y_test = pickle.load(file)\n",
    "\n",
    "get_data_stats(y_train, y_test)"
   ]
  },
  {
   "cell_type": "code",
   "execution_count": 7,
   "metadata": {},
   "outputs": [],
   "source": [
    "def eval_test(X_test_df, forest_freq_clf_list):\n",
    "    X_test_df = pd.DataFrame(X_test_df)\n",
    "    y_pred = []\n",
    "    for i in range(X_test_df.shape[0]):\n",
    "        y_cur_pred = []\n",
    "        for freq in freqs:\n",
    "            cur_freq_X = X_test_df.iloc[i][freq]\n",
    "            cur_freq_X = cur_freq_X[0]\n",
    "            cur_freq_y = forest_freq_clf_list[freq].predict([cur_freq_X])[0]\n",
    "            y_cur_pred.append(cur_freq_y)\n",
    "        pred_mode = stats.mode(np.array(y_cur_pred))[0]\n",
    "        y_pred.append(pred_mode)\n",
    "    return y_pred"
   ]
  },
  {
   "cell_type": "code",
   "execution_count": 8,
   "metadata": {},
   "outputs": [
    {
     "name": "stdout",
     "output_type": "stream",
     "text": [
      "f1_score:  0.8058712121212122\n",
      "precision_score:  0.8846153846153846\n",
      "recall_score:  0.74\n"
     ]
    },
    {
     "data": {
      "image/png": "[encoded data removed]",
      "text/plain": [
       "<Figure size 432x288 with 2 Axes>"
      ]
     },
     "metadata": {
      "needs_background": "light"
     },
     "output_type": "display_data"
    },
    {
     "data": {
      "image/png": "[encoded data removed]",
      "text/plain": [
       "<Figure size 432x288 with 2 Axes>"
      ]
     },
     "metadata": {
      "needs_background": "light"
     },
     "output_type": "display_data"
    }
   ],
   "source": [
    "new_X_test_df, new_y_test = cleared_test_ds(X_test_df, y_test)\n",
    "y_pred = eval_test(new_X_test_df, freq_clf_list)\n",
    "confusion_matrix(y_test, y_pred, normalize='true')\n",
    "eval_metrics(y_pred, y_test)"
   ]
  },
  {
   "cell_type": "code",
   "execution_count": 9,
   "metadata": {},
   "outputs": [
    {
     "data": {
      "text/plain": [
       "array([[0.90044843, 0.09955157],\n",
       "       [0.26      , 0.74      ]])"
      ]
     },
     "execution_count": 9,
     "metadata": {},
     "output_type": "execute_result"
    }
   ],
   "source": [
    "confusion_matrix(y_test, y_pred, normalize='true')"
   ]
  },
  {
   "cell_type": "markdown",
   "metadata": {},
   "source": [
    "# Forest"
   ]
  },
  {
   "cell_type": "code",
   "execution_count": 2,
   "metadata": {},
   "outputs": [],
   "source": [
    "import pickle"
   ]
  },
  {
   "cell_type": "code",
   "execution_count": null,
   "metadata": {},
   "outputs": [
    {
     "ename": "NameError",
     "evalue": "name 'get_data_stats' is not defined",
     "output_type": "error",
     "traceback": [
      "\u001b[1;31m---------------------------------------------------------------------------\u001b[0m",
      "\u001b[1;31mNameError\u001b[0m                                 Traceback (most recent call last)",
      "Input \u001b[1;32mIn [3]\u001b[0m, in \u001b[0;36m<cell line: 13>\u001b[1;34m()\u001b[0m\n\u001b[0;32m     10\u001b[0m \u001b[38;5;28;01mwith\u001b[39;00m \u001b[38;5;28mopen\u001b[39m(\u001b[38;5;124m'\u001b[39m\u001b[38;5;124mtrain/forest/balanced_y_test.pkl\u001b[39m\u001b[38;5;124m'\u001b[39m, \u001b[38;5;124m'\u001b[39m\u001b[38;5;124mrb\u001b[39m\u001b[38;5;124m'\u001b[39m) \u001b[38;5;28;01mas\u001b[39;00m file:\n\u001b[0;32m     11\u001b[0m     y_test \u001b[38;5;241m=\u001b[39m pickle\u001b[38;5;241m.\u001b[39mload(file)\n\u001b[1;32m---> 13\u001b[0m get_data_stats(y_train, y_test)\n",
      "\u001b[1;31mNameError\u001b[0m: name 'get_data_stats' is not defined"
     ]
    }
   ],
   "source": [
    "with open('train/forest/balanced_X_test_df.pkl', 'rb') as file:\n",
    "    X_test_df = pickle.load(file)\n",
    "\n",
    "with open('train/forest/balanced_freq_clf_list.pkl', 'rb') as file:\n",
    "    freq_clf_list = pickle.load(file)\n",
    "\n",
    "with open('train/forest/balanced_y_train.pkl', 'rb') as file:\n",
    "    y_train = pickle.load(file)\n",
    "\n",
    "with open('train/forest/balanced_y_test.pkl', 'rb') as file:\n",
    "    y_test = pickle.load(file)\n",
    "\n",
    "# get_data_stats(y_train, y_test)"
   ]
  },
  {
   "cell_type": "code",
   "execution_count": 7,
   "metadata": {},
   "outputs": [],
   "source": [
    "def eval_test(X_test_df, forest_freq_clf_list):\n",
    "    X_test_df = pd.DataFrame(X_test_df)\n",
    "    y_pred = []\n",
    "    for i in range(X_test_df.shape[0]):\n",
    "        y_cur_pred = []\n",
    "        for freq in freqs:\n",
    "            cur_freq_X = X_test_df.iloc[i][freq]\n",
    "            cur_freq_X = cur_freq_X[0]\n",
    "            cur_freq_y = forest_freq_clf_list[freq].predict([cur_freq_X])[0]\n",
    "            y_cur_pred.append(cur_freq_y)\n",
    "        pred_mode = stats.mode(np.array(y_cur_pred))[0]\n",
    "        y_pred.append(pred_mode)\n",
    "    return y_pred"
   ]
  },
  {
   "cell_type": "code",
   "execution_count": 8,
   "metadata": {},
   "outputs": [
    {
     "name": "stdout",
     "output_type": "stream",
     "text": [
      "f1_score:  0.8099019149929939\n",
      "precision_score:  0.8748738647830474\n",
      "recall_score:  0.7539130434782608\n"
     ]
    },
    {
     "data": {
      "image/png": "[encoded data removed]",
      "text/plain": [
       "<Figure size 432x288 with 2 Axes>"
      ]
     },
     "metadata": {
      "needs_background": "light"
     },
     "output_type": "display_data"
    },
    {
     "data": {
      "image/png": "[encoded data removed]",
      "text/plain": [
       "<Figure size 432x288 with 2 Axes>"
      ]
     },
     "metadata": {
      "needs_background": "light"
     },
     "output_type": "display_data"
    }
   ],
   "source": [
    "new_X_test_df, new_y_test = cleared_test_ds(X_test_df, y_test)\n",
    "y_pred = eval_test(new_X_test_df, freq_clf_list)\n",
    "confusion_matrix(y_test, y_pred, normalize='true')\n",
    "eval_metrics(y_pred, y_test)"
   ]
  },
  {
   "cell_type": "code",
   "execution_count": null,
   "metadata": {},
   "outputs": [],
   "source": [
    "import pickle\n",
    "\n",
    "# with open('train/forest/y_pred.pkl', 'wb') as file:\n",
    "#     pickle.dump(y_pred, file)"
   ]
  },
  {
   "cell_type": "code",
   "execution_count": 12,
   "metadata": {},
   "outputs": [
    {
     "data": {
      "text/plain": [
       "array([[0.88878924, 0.11121076],\n",
       "       [0.24608696, 0.75391304]])"
      ]
     },
     "execution_count": 12,
     "metadata": {},
     "output_type": "execute_result"
    }
   ],
   "source": [
    "with open('train/forest/y_pred.pkl', 'rb') as file:\n",
    "    kekw = pickle.load(file)\n",
    "    \n",
    "confusion_matrix(y_test, kekw, normalize='true')\n",
    "# eval_metrics(kekw, y_test)"
   ]
  },
  {
   "cell_type": "code",
   "execution_count": null,
   "metadata": {},
   "outputs": [],
   "source": [
    "confusion_matrix(y_test, kekw, normalize='true')"
   ]
  },
  {
   "cell_type": "code",
   "execution_count": null,
   "metadata": {},
   "outputs": [],
   "source": []
  }
 ],
 "metadata": {
  "kernelspec": {
   "display_name": "Python 3",
   "language": "python",
   "name": "python3"
  },
  "language_info": {
   "codemirror_mode": {
    "name": "ipython",
    "version": 3
   },
   "file_extension": ".py",
   "mimetype": "text/x-python",
   "name": "python",
   "nbconvert_exporter": "python",
   "pygments_lexer": "ipython3",
   "version": "3.9.1"
  }
 },
 "nbformat": 4,
 "nbformat_minor": 2
}
